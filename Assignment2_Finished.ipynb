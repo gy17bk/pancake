{
 "cells": [
  {
   "cell_type": "code",
   "execution_count": 1,
   "metadata": {},
   "outputs": [],
   "source": [
    "# -*- coding: utf-8 -*-\n",
    "\"\"\"\n",
    "@author: Brigi\n",
    "\"\"\"\n",
    "\n",
    "# -*- coding: utf-8 -*-\n",
    "\"\"\"\n",
    "Created on Wed 4 Dec 18:01:45 2019\n",
    "\n",
    "@author: Brigi\n",
    "\"\"\"\n",
    "# this is a widget which we can use in Jupyter notebooks\n",
    "# https://ipywidgets.readthedocs.io/en/latest/examples/Widget%20List.html#Numeric-widgets\n",
    "# reason for choosing ipywidgets is it is easier to use than tkinter and did not need to install \n",
    "#any graphical packages in order to work with it\n",
    "#while\n",
    "# disadvantage is it is not working in spyder, only in jupyter notebooks\n",
    "import ipywidgets as widgets\n"
   ]
  },
  {
   "cell_type": "code",
   "execution_count": 2,
   "metadata": {},
   "outputs": [
    {
     "data": {
      "application/vnd.jupyter.widget-view+json": {
       "model_id": "b6f5e67503a940d888cb118002119b2f",
       "version_major": 2,
       "version_minor": 0
      },
      "text/plain": [
       "FloatSlider(value=1.3, description='Parishes:', max=10.0, step=0.01)"
      ]
     },
     "metadata": {},
     "output_type": "display_data"
    }
   ],
   "source": [
    "# widget allows us to change the parameters\n",
    "# not parishes but population is the correct variable name\n",
    "# Challange: Initially found widget int.Slider but this only displays integer numbers\n",
    "# needed to set up float to display decimals.\n",
    "# step to explain _________________________\n",
    "# initial value to explain ___________________________\n",
    "Parishes_parameter = widgets.FloatSlider(min=0,\n",
    "    max=10,\n",
    "    step=0.01,\n",
    "    description='Parishes:',\n",
    "    value=1.3)\n",
    "display(Parishes_parameter)\n"
   ]
  },
  {
   "cell_type": "code",
   "execution_count": 3,
   "metadata": {},
   "outputs": [
    {
     "data": {
      "application/vnd.jupyter.widget-view+json": {
       "model_id": "370fe2c202ef45b4aaa652364dbb31ac",
       "version_major": 2,
       "version_minor": 0
      },
      "text/plain": [
       "FloatSlider(value=0.8, description='Rats:', max=10.0, step=0.01)"
      ]
     },
     "metadata": {},
     "output_type": "display_data"
    }
   ],
   "source": [
    "Rats_parameter =widgets.FloatSlider(min=0,\n",
    "    max=10,\n",
    "    step=0.01,\n",
    "    description='Rats:',\n",
    "    value=0.8)\n",
    "display(Rats_parameter)"
   ]
  },
  {
   "cell_type": "code",
   "execution_count": 4,
   "metadata": {},
   "outputs": [
    {
     "name": "stdout",
     "output_type": "stream",
     "text": [
      "[[    0.       0.       0.   ...  8536.32  8536.32  8536.32]\n",
      " [    0.       0.       0.   ...  8536.32  8536.32  8536.32]\n",
      " [    0.       0.       0.   ...  8536.32  8536.32  8536.32]\n",
      " ...\n",
      " [ 4680.    4680.    4680.   ...  3744.    3744.    3744.  ]\n",
      " [ 4680.    4680.    4680.   ...  3744.    3744.    3744.  ]\n",
      " [10670.4  10670.4  10670.4  ... 10670.4  10670.4  10670.4 ]]\n"
     ]
    }
   ],
   "source": [
    "import csv\n",
    "### used 'as' to shorten the name of matplotlib for easier use \n",
    "import matplotlib.pyplot as pyplot\n",
    "import numpy\n",
    "\n",
    "# def read_txt is a function which reads in the 2 files (rats and parishes) in the same time\n",
    "# Instead of using f =open .... twice, the code is shorter using the function\n",
    "# which has one parameter (passz)\n",
    "\n",
    "#When the function is called, (lines 43  - rats= and  44 - parishes= ) we pass along the \n",
    "#read_text function name to open the txt files and convert them to float \n",
    "\n",
    "def read_txt (passz):\n",
    "    #this is a doctest\n",
    "    \"\"\"\n",
    "    >>> read_txt('Death_parishes.txt')[0][0]\n",
    "    0.0\n",
    "    \n",
    "    \"\"\"\n",
    "    parishes = [] # create an empty list\n",
    "    f= open (passz, newline='')\n",
    "    reader = csv.reader(f)\n",
    "    \n",
    "    for row in reader: # A list of rows\n",
    "        rowlist = [] # make a new list before each row is processed\n",
    "       \n",
    "        for value in row: # A list of value\n",
    "            \n",
    "             rowlist.append(float(value)) # do something with the values\n",
    "             # converted values (string) to float \n",
    "            #print(value) # Floats - do something with values\n",
    "        parishes.append(rowlist)\n",
    "    return parishes\n",
    "\n",
    "#calling the function to read in the rats and parishes file\n",
    "rats = read_txt('death.rats.txt')\n",
    "parishes = read_txt('Death_parishes.txt')\n",
    "\n",
    "#parishes van hasznalva as a local valtozo (scope) miatt az egyik a fuggvenyen belul van a masik meg a fv kivul\n",
    "\n",
    "#after importing numpy above, it is easier to call it and put the variables\n",
    "#into a 2D array.\n",
    "rats = numpy.array(rats)\n",
    "parishes = numpy.array(parishes)\n",
    "\n",
    "#Not neccesary, just checked if the 2D array is working correctly\n",
    "#print (rats)\n",
    "#print (parishes)\n",
    "\n",
    "#This is step 2 where we calculate the avarage death using the given \n",
    "#equation\n",
    "# this is the equation from the assignment2 description d = (0.8 x r) x (1.3 x p)\n",
    "# changed the original values in the equation (from 0.8 and 1.3 respectively) \n",
    "# to the values which i have on the scrollbar widget. \n",
    "avg_death= (rats*Rats_parameter.value) * (parishes*Parishes_parameter.value)\n",
    "print(avg_death)\n",
    "\n",
    "\n",
    "# this is to write the absolute death out to a file\n",
    "# Instead of f=open I used with open\n",
    "with open('absolut_death.txt', 'w', newline='') as csvfile:\n",
    "    spamwriter = csv.writer(csvfile, delimiter=',')\n",
    "    for row in avg_death: # go through all rows in avg_death\n",
    "        rowlist = [] # make a new list before each row is processed\n",
    "   \n",
    "        for value in row: # A list of value egy sor minden oszlopan megy vegig\n",
    "        \n",
    "            rowlist.append(float(value)) # belefuzi az ertekeket\n",
    "        \n",
    "        #print(value) # Floats - do something with values\n",
    "        spamwriter.writerow(rowlist)\n"
   ]
  },
  {
   "cell_type": "code",
   "execution_count": 5,
   "metadata": {},
   "outputs": [
    {
     "data": {
      "image/png": "[encoded data removed]",
      "text/plain": [
       "<Figure size 432x288 with 1 Axes>"
      ]
     },
     "metadata": {
      "needs_background": "light"
     },
     "output_type": "display_data"
    }
   ],
   "source": [
    "#this shows the parishes and the rats raster London maps\n",
    "pyplot.imshow(rats)\n",
    "pyplot.show()\n"
   ]
  },
  {
   "cell_type": "code",
   "execution_count": 6,
   "metadata": {},
   "outputs": [
    {
     "data": {
      "image/png": "[encoded data removed]",
      "text/plain": [
       "<Figure size 432x288 with 1 Axes>"
      ]
     },
     "metadata": {
      "needs_background": "light"
     },
     "output_type": "display_data"
    }
   ],
   "source": [
    "pyplot.imshow(parishes)\n",
    "pyplot.show()"
   ]
  },
  {
   "cell_type": "code",
   "execution_count": 7,
   "metadata": {},
   "outputs": [
    {
     "data": {
      "image/png": "[encoded data removed]",
      "text/plain": [
       "<Figure size 432x288 with 1 Axes>"
      ]
     },
     "metadata": {
      "needs_background": "light"
     },
     "output_type": "display_data"
    }
   ],
   "source": [
    "# when putting pyplot.show(avg_death) i received an error message\n",
    "# took a while to figure out that dont need any keyword in the brackets\n",
    "#colours dont change as propotions of rats and deaths comparing to each other\n",
    "#does not change (numbers are changed in written out file)\n",
    "pyplot.imshow(avg_death)\n",
    "pyplot.show()"
   ]
  },
  {
   "cell_type": "code",
   "execution_count": 8,
   "metadata": {},
   "outputs": [
    {
     "data": {
      "text/plain": [
       "3"
      ]
     },
     "execution_count": 8,
     "metadata": {},
     "output_type": "execute_result"
    }
   ],
   "source": [
    "# to delete this, it's only a try for doctest\n",
    "def add(a, b):\n",
    "    \"\"\"\n",
    "    >>> add(1, 2)\n",
    "    4\n",
    "    \"\"\"\n",
    "    return a + b\n",
    "\n",
    "add(1, 2)"
   ]
  },
  {
   "cell_type": "code",
   "execution_count": 9,
   "metadata": {},
   "outputs": [
    {
     "name": "stdout",
     "output_type": "stream",
     "text": [
      "Trying:\n",
      "    add(1, 2)\n",
      "Expecting:\n",
      "    4\n",
      "**********************************************************************\n",
      "File \"__main__\", line 4, in __main__.add\n",
      "Failed example:\n",
      "    add(1, 2)\n",
      "Expected:\n",
      "    4\n",
      "Got:\n",
      "    3\n",
      "Trying:\n",
      "    read_txt('Death_parishes.txt')[0][0]\n",
      "Expecting:\n",
      "    0.0\n",
      "ok\n",
      "1 items had no tests:\n",
      "    __main__\n",
      "1 items passed all tests:\n",
      "   1 tests in __main__.read_txt\n",
      "**********************************************************************\n",
      "1 items had failures:\n",
      "   1 of   1 in __main__.add\n",
      "2 tests in 3 items.\n",
      "1 passed and 1 failed.\n",
      "***Test Failed*** 1 failures.\n"
     ]
    },
    {
     "data": {
      "text/plain": [
       "TestResults(failed=1, attempted=2)"
      ]
     },
     "execution_count": 9,
     "metadata": {},
     "output_type": "execute_result"
    }
   ],
   "source": [
    "import doctest\n",
    "doctest.testmod(verbose=True)"
   ]
  },
  {
   "cell_type": "code",
   "execution_count": 10,
   "metadata": {},
   "outputs": [],
   "source": [
    "#change colours maybe? \n",
    "#display the total deaths per week"
   ]
  }
 ],
 "metadata": {
  "kernelspec": {
   "display_name": "Python 3",
   "language": "python",
   "name": "python3"
  },
  "language_info": {
   "codemirror_mode": {
    "name": "ipython",
    "version": 3
   },
   "file_extension": ".py",
   "mimetype": "text/x-python",
   "name": "python",
   "nbconvert_exporter": "python",
   "pygments_lexer": "ipython3",
   "version": "3.7.4"
  }
 },
 "nbformat": 4,
 "nbformat_minor": 2
}
